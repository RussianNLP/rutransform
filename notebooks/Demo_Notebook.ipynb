{
 "cells": [
  {
   "cell_type": "markdown",
   "id": "8f39c781",
   "metadata": {},
   "source": [
    "# Demo of the RuTransform library\n",
    "\n",
    "RuTransform is a Python framework for adversarial attacks and text data augmentation for Russian, supporting a wide range of text data transformations and adversarial attacks.\n",
    "\n",
    "\n",
    "This notebook shows how to create adversarial data using RuTransform, as well as how to customize the framework for your needs.\n",
    "\n",
    "### See how to:\n",
    "- setup the framework\n",
    "- use RuTransform on TAPE data\n",
    "- use RuTransform on your own data\n",
    "- write your own constraints\n",
    "- create your own transformations\n",
    "\n",
    "\n",
    "## Setup RuTransform"
   ]
  },
  {
   "cell_type": "code",
   "execution_count": 2,
   "id": "fc1f99d0",
   "metadata": {},
   "outputs": [
    {
     "name": "stdout",
     "output_type": "stream",
     "text": [
      "/home/jovyan/katya/RSG/rutransform\n"
     ]
    }
   ],
   "source": [
    "!git clone https://github.com/RussianNLP/rutransform\n",
    "%cd rutransform\n",
    "!pip install ."
   ]
  },
  {
   "cell_type": "markdown",
   "id": "c3f8c027",
   "metadata": {},
   "source": [
    "## Example 1: Transforming a TAPE-type dataset\n",
    "\n",
    "The **RuTransform** framework can work with the [TAPE](https://github.com/RussianNLP/TAPE)-like datasets out-of-the-box. The module will automatically use the required transformation constraints and techniques, the user need to simply pass the correct `task_type` argument. \n",
    "\n",
    "### Load modules"
   ]
  },
  {
   "cell_type": "code",
   "execution_count": 4,
   "id": "dd9e629e",
   "metadata": {},
   "outputs": [
    {
     "name": "stderr",
     "output_type": "stream",
     "text": [
      "/home/jovyan/.imgenv-tape2-0/lib/python3.7/site-packages/torch/cuda/__init__.py:80: UserWarning: CUDA initialization: The NVIDIA driver on your system is too old (found version 10010). Please update your GPU driver by downloading and installing a new version from the URL: http://www.nvidia.com/Download/index.aspx Alternatively, go to: https://pytorch.org to install a PyTorch version that has been compiled with your version of the CUDA driver. (Triggered internally at  ../c10/cuda/CUDAFunctions.cpp:112.)\n",
      "  return torch._C._cuda_getDeviceCount() > 0\n",
      "2022-07-28 20:25:15.853081: W tensorflow/stream_executor/platform/default/dso_loader.cc:64] Could not load dynamic library 'libcudart.so.11.0'; dlerror: libcudart.so.11.0: cannot open shared object file: No such file or directory; LD_LIBRARY_PATH: /usr/local/nvidia/lib:/usr/local/nvidia/lib64\n",
      "2022-07-28 20:25:15.853112: I tensorflow/stream_executor/cuda/cudart_stub.cc:29] Ignore above cudart dlerror if you do not have a GPU set up on your machine.\n"
     ]
    }
   ],
   "source": [
    "import pandas as pd\n",
    "\n",
    "from rutransform.transformations import DatasetTransformer\n",
    "from rutransform.utils.args import TransformArguments"
   ]
  },
  {
   "cell_type": "markdown",
   "id": "256ebcba",
   "metadata": {},
   "source": [
    "### Load data\n",
    "\n",
    "Let's, first, load the data to work with. Here we use sample data from the TAPE benchmark, namely, the **WorldTree** dataset on multiple choice question answering"
   ]
  },
  {
   "cell_type": "code",
   "execution_count": 5,
   "id": "b3f36fbd",
   "metadata": {
    "scrolled": false
   },
   "outputs": [
    {
     "data": {
      "text/html": [
       "<div>\n",
       "<style scoped>\n",
       "    .dataframe tbody tr th:only-of-type {\n",
       "        vertical-align: middle;\n",
       "    }\n",
       "\n",
       "    .dataframe tbody tr th {\n",
       "        vertical-align: top;\n",
       "    }\n",
       "\n",
       "    .dataframe thead th {\n",
       "        text-align: right;\n",
       "    }\n",
       "</style>\n",
       "<table border=\"1\" class=\"dataframe\">\n",
       "  <thead>\n",
       "    <tr style=\"text-align: right;\">\n",
       "      <th></th>\n",
       "      <th>question</th>\n",
       "      <th>answer</th>\n",
       "      <th>exam_name</th>\n",
       "      <th>school_grade</th>\n",
       "      <th>knowledge_type</th>\n",
       "    </tr>\n",
       "  </thead>\n",
       "  <tbody>\n",
       "    <tr>\n",
       "      <th>0</th>\n",
       "      <td>Когда мороженое не кладут в морозильную камеру...</td>\n",
       "      <td>C</td>\n",
       "      <td>Virginia Standards of Learning - Science</td>\n",
       "      <td>5</td>\n",
       "      <td>CAUSAL,EXAMPLE</td>\n",
       "    </tr>\n",
       "    <tr>\n",
       "      <th>1</th>\n",
       "      <td>За сколько времени Земля совершит семь оборото...</td>\n",
       "      <td>B</td>\n",
       "      <td>NYSEDREGENTS</td>\n",
       "      <td>4</td>\n",
       "      <td>MODEL,QUANT</td>\n",
       "    </tr>\n",
       "    <tr>\n",
       "      <th>2</th>\n",
       "      <td>Студент толкает красную игрушечную машинку по ...</td>\n",
       "      <td>C</td>\n",
       "      <td>Alaska Dept. of Education &amp; Early Development</td>\n",
       "      <td>4</td>\n",
       "      <td>MODEL</td>\n",
       "    </tr>\n",
       "    <tr>\n",
       "      <th>3</th>\n",
       "      <td>Животные используют ресурсы окружающей среды, ...</td>\n",
       "      <td>B</td>\n",
       "      <td>Maryland School Assessment - Science</td>\n",
       "      <td>4</td>\n",
       "      <td>PROCESS</td>\n",
       "    </tr>\n",
       "    <tr>\n",
       "      <th>4</th>\n",
       "      <td>Чем похожи испарение и конденсация? (A) Оба вы...</td>\n",
       "      <td>D</td>\n",
       "      <td>North Carolina READY End-of-Grade Assessment</td>\n",
       "      <td>5</td>\n",
       "      <td>CAUSAL</td>\n",
       "    </tr>\n",
       "  </tbody>\n",
       "</table>\n",
       "</div>"
      ],
      "text/plain": [
       "                                            question answer  \\\n",
       "0  Когда мороженое не кладут в морозильную камеру...      C   \n",
       "1  За сколько времени Земля совершит семь оборото...      B   \n",
       "2  Студент толкает красную игрушечную машинку по ...      C   \n",
       "3  Животные используют ресурсы окружающей среды, ...      B   \n",
       "4  Чем похожи испарение и конденсация? (A) Оба вы...      D   \n",
       "\n",
       "                                       exam_name  school_grade  knowledge_type  \n",
       "0       Virginia Standards of Learning - Science             5  CAUSAL,EXAMPLE  \n",
       "1                                   NYSEDREGENTS             4     MODEL,QUANT  \n",
       "2  Alaska Dept. of Education & Early Development             4           MODEL  \n",
       "3           Maryland School Assessment - Science             4         PROCESS  \n",
       "4   North Carolina READY End-of-Grade Assessment             5          CAUSAL  "
      ]
     },
     "execution_count": 5,
     "metadata": {},
     "output_type": "execute_result"
    }
   ],
   "source": [
    "dataset = pd.read_json(\"test_data/worldtree.json\", lines=True)\n",
    "dataset"
   ]
  },
  {
   "cell_type": "markdown",
   "id": "01e8d070",
   "metadata": {},
   "source": [
    "### Transform dataset\n",
    "\n",
    "The full list of transformations is given in the [rutransform repo](https://github.com/RussianNLP/rutransform/README.md/#supported-ransformations).\n",
    "\n",
    "Alternatively, you can view the supported transformations like this:"
   ]
  },
  {
   "cell_type": "code",
   "execution_count": 6,
   "id": "cc070185",
   "metadata": {},
   "outputs": [
    {
     "name": "stdout",
     "output_type": "stream",
     "text": [
      "bae\n",
      "addsent\n",
      "eda\n",
      "paraphraser\n",
      "style_transfer\n",
      "back_translation\n",
      "butter_fingers\n",
      "case\n",
      "emojify\n"
     ]
    }
   ],
   "source": [
    "from rutransform.transformations import load_transformers\n",
    "\n",
    "transformations_list = list(load_transformers().keys())\n",
    "print(\"\\n\".join(transformations_list))"
   ]
  },
  {
   "cell_type": "markdown",
   "id": "6bceee65",
   "metadata": {},
   "source": [
    "Use the `DatasetTransformer` module to transform the dataset. To do this, we need to specify the transformation arguments, most importantly, the `trasmformation` and its `probability`:"
   ]
  },
  {
   "cell_type": "code",
   "execution_count": 7,
   "id": "22347a5c",
   "metadata": {},
   "outputs": [
    {
     "data": {
      "text/plain": [
       "TransformArguments(transformation='butter_fingers', max_outputs=1, probability=0.3, same_prob=True, del_prob=0.05, similarity_threshold=0.8, bae_model='bert-base-multilingual-cased', segment_length=3, bin_p=1.0, generator='gpt3', prompt_text=' Парафраза:', prompt=False, num_beams=None, early_stopping=False, no_repeat_ngram_size=None, do_sample=False, temperature=None, top_k=None, top_p=None, repetition_penalty=None, threshold=None, max_length=50)"
      ]
     },
     "execution_count": 7,
     "metadata": {},
     "output_type": "execute_result"
    }
   ],
   "source": [
    "args = TransformArguments(transformation=\"butter_fingers\", probability=0.3)\n",
    "args"
   ]
  },
  {
   "cell_type": "markdown",
   "id": "d2b80a18",
   "metadata": {},
   "source": [
    "Pass the transformation arguments to the `DatasetTransformer`, along with the data to be transformed (`dataset`), name of the column with text data (`text_col`), task type (e.g. *winograd, multichoice_qa, ethics, mulihop, jeopardy*)."
   ]
  },
  {
   "cell_type": "code",
   "execution_count": 8,
   "id": "640cf867",
   "metadata": {},
   "outputs": [],
   "source": [
    "# uncomment to see the full list of parameters\n",
    "# print(DatasetTransformer.__init__.__doc__)"
   ]
  },
  {
   "cell_type": "code",
   "execution_count": 9,
   "id": "e098a9ed",
   "metadata": {},
   "outputs": [],
   "source": [
    "tr = DatasetTransformer(\n",
    "    dataset=dataset,\n",
    "    text_col=\"question\",\n",
    "    task_type=\"multichoice_qa\",\n",
    "    args=args,\n",
    "    return_type=\"pd\",  # format of the output (default is 'hf')\n",
    ")"
   ]
  },
  {
   "cell_type": "markdown",
   "id": "150f36cf",
   "metadata": {},
   "source": [
    "Now we can transform the data:"
   ]
  },
  {
   "cell_type": "code",
   "execution_count": 10,
   "id": "bfab25f6",
   "metadata": {},
   "outputs": [
    {
     "data": {
      "application/vnd.jupyter.widget-view+json": {
       "model_id": "7a824c94d3664ec196580ef6a2264286",
       "version_major": 2,
       "version_minor": 0
      },
      "text/plain": [
       "HBox(children=(FloatProgress(value=0.0, description='Transforming data', max=5.0, style=ProgressStyle(descript…"
      ]
     },
     "metadata": {},
     "output_type": "display_data"
    },
    {
     "name": "stdout",
     "output_type": "stream",
     "text": [
      "\n"
     ]
    }
   ],
   "source": [
    "output = tr.transform()"
   ]
  },
  {
   "cell_type": "markdown",
   "id": "5be8b89f",
   "metadata": {},
   "source": [
    "The `transform` method returns a named tuple with 4 values:"
   ]
  },
  {
   "cell_type": "code",
   "execution_count": 11,
   "id": "4a747377",
   "metadata": {},
   "outputs": [
    {
     "data": {
      "text/html": [
       "<div>\n",
       "<style scoped>\n",
       "    .dataframe tbody tr th:only-of-type {\n",
       "        vertical-align: middle;\n",
       "    }\n",
       "\n",
       "    .dataframe tbody tr th {\n",
       "        vertical-align: top;\n",
       "    }\n",
       "\n",
       "    .dataframe thead th {\n",
       "        text-align: right;\n",
       "    }\n",
       "</style>\n",
       "<table border=\"1\" class=\"dataframe\">\n",
       "  <thead>\n",
       "    <tr style=\"text-align: right;\">\n",
       "      <th></th>\n",
       "      <th>question</th>\n",
       "      <th>answer</th>\n",
       "      <th>exam_name</th>\n",
       "      <th>school_grade</th>\n",
       "      <th>knowledge_type</th>\n",
       "    </tr>\n",
       "  </thead>\n",
       "  <tbody>\n",
       "    <tr>\n",
       "      <th>0</th>\n",
       "      <td>Когда мороженое не кладут в морозильную камеру...</td>\n",
       "      <td>C</td>\n",
       "      <td>Virginia Standards of Learning - Science</td>\n",
       "      <td>5</td>\n",
       "      <td>CAUSAL,EXAMPLE</td>\n",
       "    </tr>\n",
       "    <tr>\n",
       "      <th>1</th>\n",
       "      <td>За сколько времени Земля совершит семь оборото...</td>\n",
       "      <td>B</td>\n",
       "      <td>NYSEDREGENTS</td>\n",
       "      <td>4</td>\n",
       "      <td>MODEL,QUANT</td>\n",
       "    </tr>\n",
       "    <tr>\n",
       "      <th>2</th>\n",
       "      <td>Соудент оолкыет кррскпю игрудечнаю машинку по ...</td>\n",
       "      <td>C</td>\n",
       "      <td>Alaska Dept. of Education &amp; Early Development</td>\n",
       "      <td>4</td>\n",
       "      <td>MODEL</td>\n",
       "    </tr>\n",
       "    <tr>\n",
       "      <th>3</th>\n",
       "      <td>Животные используют ресурсы окружающей среды, ...</td>\n",
       "      <td>B</td>\n",
       "      <td>Maryland School Assessment - Science</td>\n",
       "      <td>4</td>\n",
       "      <td>PROCESS</td>\n",
       "    </tr>\n",
       "    <tr>\n",
       "      <th>4</th>\n",
       "      <td>Чеч пщхожи испарение и конденсация ? (A) Оба в...</td>\n",
       "      <td>D</td>\n",
       "      <td>North Carolina READY End-of-Grade Assessment</td>\n",
       "      <td>5</td>\n",
       "      <td>CAUSAL</td>\n",
       "    </tr>\n",
       "  </tbody>\n",
       "</table>\n",
       "</div>"
      ],
      "text/plain": [
       "                                            question answer  \\\n",
       "0  Когда мороженое не кладут в морозильную камеру...      C   \n",
       "1  За сколько времени Земля совершит семь оборото...      B   \n",
       "2  Соудент оолкыет кррскпю игрудечнаю машинку по ...      C   \n",
       "3  Животные используют ресурсы окружающей среды, ...      B   \n",
       "4  Чеч пщхожи испарение и конденсация ? (A) Оба в...      D   \n",
       "\n",
       "                                       exam_name  school_grade  knowledge_type  \n",
       "0       Virginia Standards of Learning - Science             5  CAUSAL,EXAMPLE  \n",
       "1                                   NYSEDREGENTS             4     MODEL,QUANT  \n",
       "2  Alaska Dept. of Education & Early Development             4           MODEL  \n",
       "3           Maryland School Assessment - Science             4         PROCESS  \n",
       "4   North Carolina READY End-of-Grade Assessment             5          CAUSAL  "
      ]
     },
     "execution_count": 11,
     "metadata": {},
     "output_type": "execute_result"
    }
   ],
   "source": [
    "# transformed data\n",
    "output.transformed_dataset"
   ]
  },
  {
   "cell_type": "code",
   "execution_count": 12,
   "id": "ad6008f6",
   "metadata": {},
   "outputs": [
    {
     "data": {
      "text/plain": [
       "0.9146944761276246"
      ]
     },
     "execution_count": 12,
     "metadata": {},
     "output_type": "execute_result"
    }
   ],
   "source": [
    "# mean similarity score of the transformed data\n",
    "output.score"
   ]
  },
  {
   "cell_type": "code",
   "execution_count": 13,
   "id": "9419bd3f",
   "metadata": {},
   "outputs": [
    {
     "data": {
      "text/plain": [
       "array([0.93971652, 0.94295949, 0.8272841 , 0.98828816, 0.87522411])"
      ]
     },
     "execution_count": 13,
     "metadata": {},
     "output_type": "execute_result"
    }
   ],
   "source": [
    "# sentence similarity scores\n",
    "output.scores"
   ]
  },
  {
   "cell_type": "code",
   "execution_count": 14,
   "id": "810b9709",
   "metadata": {},
   "outputs": [
    {
     "data": {
      "text/plain": [
       "0.05663837594035781"
      ]
     },
     "execution_count": 14,
     "metadata": {},
     "output_type": "execute_result"
    }
   ],
   "source": [
    "# std of scores\n",
    "output.std"
   ]
  },
  {
   "cell_type": "code",
   "execution_count": 15,
   "id": "61017229",
   "metadata": {},
   "outputs": [
    {
     "data": {
      "application/vnd.jupyter.widget-view+json": {
       "model_id": "e427c39275bc4d1baba59dc7a50f12e4",
       "version_major": 2,
       "version_minor": 0
      },
      "text/plain": [
       "HBox(children=(FloatProgress(value=0.0, description='Transforming data', max=5.0, style=ProgressStyle(descript…"
      ]
     },
     "metadata": {},
     "output_type": "display_data"
    },
    {
     "name": "stdout",
     "output_type": "stream",
     "text": [
      "\n",
      "Dataset similarity score: 0.8299961090087891\n",
      "STD: 0.017096589221670816\n"
     ]
    },
    {
     "data": {
      "text/html": [
       "<div>\n",
       "<style scoped>\n",
       "    .dataframe tbody tr th:only-of-type {\n",
       "        vertical-align: middle;\n",
       "    }\n",
       "\n",
       "    .dataframe tbody tr th {\n",
       "        vertical-align: top;\n",
       "    }\n",
       "\n",
       "    .dataframe thead th {\n",
       "        text-align: right;\n",
       "    }\n",
       "</style>\n",
       "<table border=\"1\" class=\"dataframe\">\n",
       "  <thead>\n",
       "    <tr style=\"text-align: right;\">\n",
       "      <th></th>\n",
       "      <th>text</th>\n",
       "      <th>answer</th>\n",
       "      <th>label</th>\n",
       "      <th>options</th>\n",
       "      <th>reference</th>\n",
       "      <th>homonymia_type</th>\n",
       "    </tr>\n",
       "  </thead>\n",
       "  <tbody>\n",
       "    <tr>\n",
       "      <th>0</th>\n",
       "      <td>\" А зля госркгивтрации понадобится еолько декл...</td>\n",
       "      <td>постройке</td>\n",
       "      <td>0</td>\n",
       "      <td>[госрегистрации, декларация, постройке, админи...</td>\n",
       "      <td>которая</td>\n",
       "      <td>1.2</td>\n",
       "    </tr>\n",
       "    <tr>\n",
       "      <th>1</th>\n",
       "      <td>Нм втором сесре оказалась 16-летняя атина из р...</td>\n",
       "      <td>румынии</td>\n",
       "      <td>0</td>\n",
       "      <td>[алина, румынии, тысячи]</td>\n",
       "      <td>которая</td>\n",
       "      <td>1.1</td>\n",
       "    </tr>\n",
       "    <tr>\n",
       "      <th>2</th>\n",
       "      <td>\" Чрго стоиоа , нкпример , мёртвенно - блетная...</td>\n",
       "      <td>Хранительница</td>\n",
       "      <td>0</td>\n",
       "      <td>[Морена, Хранительница, Смерти, челюстями]</td>\n",
       "      <td>которая</td>\n",
       "      <td>1.4</td>\n",
       "    </tr>\n",
       "    <tr>\n",
       "      <th>3</th>\n",
       "      <td>\" Ммшв , вооя пашьчиком по его лаву , стала го...</td>\n",
       "      <td>личности</td>\n",
       "      <td>1</td>\n",
       "      <td>[Маша, одушевленности, личности]</td>\n",
       "      <td>которая</td>\n",
       "      <td>1.2</td>\n",
       "    </tr>\n",
       "    <tr>\n",
       "      <th>4</th>\n",
       "      <td>\" Мрфологим , скпеплявшей нацию , нужеа был на...</td>\n",
       "      <td>правда</td>\n",
       "      <td>1</td>\n",
       "      <td>[Мифологии, нацию, легенд, правда, войне, осно...</td>\n",
       "      <td>которая</td>\n",
       "      <td>1.2</td>\n",
       "    </tr>\n",
       "  </tbody>\n",
       "</table>\n",
       "</div>"
      ],
      "text/plain": [
       "                                                text         answer  label  \\\n",
       "0  \" А зля госркгивтрации понадобится еолько декл...      постройке      0   \n",
       "1  Нм втором сесре оказалась 16-летняя атина из р...        румынии      0   \n",
       "2  \" Чрго стоиоа , нкпример , мёртвенно - блетная...  Хранительница      0   \n",
       "3  \" Ммшв , вооя пашьчиком по его лаву , стала го...       личности      1   \n",
       "4  \" Мрфологим , скпеплявшей нацию , нужеа был на...         правда      1   \n",
       "\n",
       "                                             options reference  homonymia_type  \n",
       "0  [госрегистрации, декларация, постройке, админи...   которая             1.2  \n",
       "1                           [алина, румынии, тысячи]   которая             1.1  \n",
       "2         [Морена, Хранительница, Смерти, челюстями]   которая             1.4  \n",
       "3                   [Маша, одушевленности, личности]   которая             1.2  \n",
       "4  [Мифологии, нацию, легенд, правда, войне, осно...   которая             1.2  "
      ]
     },
     "execution_count": 15,
     "metadata": {},
     "output_type": "execute_result"
    }
   ],
   "source": [
    "# @title Playable Demo\n",
    "# @markdown Here you can play with different parameters to transform the dataset\n",
    "\n",
    "# @markdown ## Load Data\n",
    "# @markdown Choose a TAPE dataset to work with (one of `winograd`, `worldtree`, `openbook`, `per_ethics`, `sit_ethics`, `multiq`, `chegeka`,  for data description refer to [TAPE repo](https://github.com/RussianNLP/TAPE/README.md/#datasets)).\n",
    "dataset = \"winograd\"  # @param {type:\"string\"}\n",
    "data = pd.read_json(f\"test_data/{dataset}.json\", lines=True)\n",
    "\n",
    "# @markdown ## Transformation parameters\n",
    "# @markdown Main:\n",
    "transformation = \"butter_fingers\"  # @param {type:\"string\"}\n",
    "probability = 0.3  # @param {type:\"raw\"}\n",
    "similarity_threshold = 0.8  # @param {type:\"raw\"}\n",
    "\n",
    "# @markdown Advanced parameters:\n",
    "max_outputs = 1  # @param {type:\"raw\"}\n",
    "same_prob = True  # @param {type:\"boolean\"}\n",
    "del_prob = 0.05  # @param {type:\"raw\"}\n",
    "bae_model = \"bert-base-multilingual-cased\"  # @param {type:\"string\"}\n",
    "segment_length = 3  # @param {type:\"raw\"}\n",
    "bin_p = 1.0  # @param {type:\"raw\"}\n",
    "generator = \"gpt3\"  # @param {type:\"string\"}\n",
    "prompt = False  # @param {type:\"boolean\"}\n",
    "prompt_text = \" Парафраза:\"  # @param {type:\"string\"}\n",
    "num_beams = None  # @param {type:\"raw\"}\n",
    "early_stopping = False  # @param {type:\"boolean\"}\n",
    "no_repeat_ngram_size = None  # @param {type:\"raw\"}\n",
    "do_sample = False  # @param {type:\"boolean\"}\n",
    "temperature = None  # @param {type:\"raw\"}\n",
    "top_k = None  # @param {type:\"raw\"}\n",
    "top_p = None  # @param {type:\"raw\"}\n",
    "repetition_penalty = None  # @param {type:\"raw\"}\n",
    "threshold = None  # @param {type:\"raw\"}\n",
    "max_length = 50  # @param {type:\"raw\"}\n",
    "\n",
    "\n",
    "args = TransformArguments(\n",
    "    transformation=transformation,\n",
    "    probability=probability,\n",
    "    similarity_threshold=similarity_threshold,\n",
    "    max_outputs=max_outputs,\n",
    "    same_prob=same_prob,\n",
    "    del_prob=del_prob,\n",
    "    bae_model=bae_model,\n",
    "    segment_length=segment_length,\n",
    "    bin_p=bin_p,\n",
    "    generator=generator,\n",
    "    prompt=prompt,\n",
    "    prompt_text=prompt_text,\n",
    "    num_beams=num_beams,\n",
    "    early_stopping=early_stopping,\n",
    "    no_repeat_ngram_size=no_repeat_ngram_size,\n",
    "    do_sample=do_sample,\n",
    "    temperature=temperature,\n",
    "    top_k=top_k,\n",
    "    top_p=top_p,\n",
    "    repetition_penalty=repetition_penalty,\n",
    "    threshold=threshold,\n",
    "    max_length=max_length,\n",
    ")\n",
    "\n",
    "# @markdown ## Tranform data\n",
    "\n",
    "return_type = \"pd\"  # @param {type:\"string\"}\n",
    "\n",
    "TASK_TO_KEYS = {\n",
    "    \"per_ethics\": [\"text\", \"labels\", \"ethics\"],\n",
    "    \"sit_ethics\": [\"text\", \"labels\", \"ethics\"],\n",
    "    \"winograd\": [\"text\", \"label\", \"winograd\"],\n",
    "    \"chegeka\": [\"question\", \"answer\", \"jeopardy\"],\n",
    "    \"openbook\": [\"question\", \"answer\", \"multichoice_qa\"],\n",
    "    \"worldtree\": [\"question\", \"answer\", \"multichoice_qa\"],\n",
    "    \"multiq\": [\"main_text\", \"main_answers\", \"multihop\"],\n",
    "}\n",
    "\n",
    "tr = DatasetTransformer(\n",
    "    dataset=data,\n",
    "    text_col=TASK_TO_KEYS[dataset][0],\n",
    "    label_col=TASK_TO_KEYS[dataset][1],\n",
    "    task_type=TASK_TO_KEYS[dataset][2],\n",
    "    args=args,\n",
    "    return_type=return_type,\n",
    ")\n",
    "\n",
    "output = tr.transform()\n",
    "print(\"Dataset similarity score:\", output.score)\n",
    "print(\"STD:\", output.std)\n",
    "output.transformed_dataset"
   ]
  },
  {
   "cell_type": "markdown",
   "id": "efeba934",
   "metadata": {},
   "source": [
    "## Example 2: Transform your own data\n",
    "\n",
    "RuTransform can easily be adapted to other tasks. To use the framework on your own data, simply specify the text (`text_col`) and/or target (`label_col`) column names and choose the suitable constraints (pass them into the `custom_constraints` argument). \n",
    "\n",
    "For example, let's transform the [DaNetQA](https://russiansuperglue.com/tasks/task_info/DaNetQA) data [(Shavrina et al,. 2020)](https://aclanthology.org/2020.emnlp-main.381/).\n",
    "\n",
    "### Load missing modules"
   ]
  },
  {
   "cell_type": "code",
   "execution_count": 16,
   "id": "acf7c98c",
   "metadata": {},
   "outputs": [],
   "source": [
    "from rutransform.constraints import NamedEntities"
   ]
  },
  {
   "cell_type": "markdown",
   "id": "cfbc4042",
   "metadata": {},
   "source": [
    "### Load data"
   ]
  },
  {
   "cell_type": "code",
   "execution_count": 17,
   "id": "1f9fa312",
   "metadata": {},
   "outputs": [
    {
     "data": {
      "text/html": [
       "<div>\n",
       "<style scoped>\n",
       "    .dataframe tbody tr th:only-of-type {\n",
       "        vertical-align: middle;\n",
       "    }\n",
       "\n",
       "    .dataframe tbody tr th {\n",
       "        vertical-align: top;\n",
       "    }\n",
       "\n",
       "    .dataframe thead th {\n",
       "        text-align: right;\n",
       "    }\n",
       "</style>\n",
       "<table border=\"1\" class=\"dataframe\">\n",
       "  <thead>\n",
       "    <tr style=\"text-align: right;\">\n",
       "      <th></th>\n",
       "      <th>question</th>\n",
       "      <th>passage</th>\n",
       "      <th>label</th>\n",
       "      <th>idx</th>\n",
       "    </tr>\n",
       "  </thead>\n",
       "  <tbody>\n",
       "    <tr>\n",
       "      <th>0</th>\n",
       "      <td>Был ли у обломова сын?</td>\n",
       "      <td>В браке с Пшеницыной у Обломова родился сын, н...</td>\n",
       "      <td>True</td>\n",
       "      <td>680</td>\n",
       "    </tr>\n",
       "    <tr>\n",
       "      <th>1</th>\n",
       "      <td>Должен ли цвет чехла соответствовать цвету цер...</td>\n",
       "      <td>Начиная с XV—XVI веков престолы делают либо в ...</td>\n",
       "      <td>False</td>\n",
       "      <td>1643</td>\n",
       "    </tr>\n",
       "    <tr>\n",
       "      <th>2</th>\n",
       "      <td>Состоит ли албания в евросоюзе?</td>\n",
       "      <td>Вступление Албании в Европейский союз — процед...</td>\n",
       "      <td>False</td>\n",
       "      <td>729</td>\n",
       "    </tr>\n",
       "    <tr>\n",
       "      <th>3</th>\n",
       "      <td>Был ли автомобиль принцессы дианы в дтп?</td>\n",
       "      <td>Несмотря на продолжительные реанимационные поп...</td>\n",
       "      <td>True</td>\n",
       "      <td>7</td>\n",
       "    </tr>\n",
       "    <tr>\n",
       "      <th>4</th>\n",
       "      <td>Обязательно ли содержание послания, которое не...</td>\n",
       "      <td>Средство коммуникации. В своей простейшей форм...</td>\n",
       "      <td>False</td>\n",
       "      <td>1252</td>\n",
       "    </tr>\n",
       "  </tbody>\n",
       "</table>\n",
       "</div>"
      ],
      "text/plain": [
       "                                            question  \\\n",
       "0                             Был ли у обломова сын?   \n",
       "1  Должен ли цвет чехла соответствовать цвету цер...   \n",
       "2                    Состоит ли албания в евросоюзе?   \n",
       "3           Был ли автомобиль принцессы дианы в дтп?   \n",
       "4  Обязательно ли содержание послания, которое не...   \n",
       "\n",
       "                                             passage  label   idx  \n",
       "0  В браке с Пшеницыной у Обломова родился сын, н...   True   680  \n",
       "1  Начиная с XV—XVI веков престолы делают либо в ...  False  1643  \n",
       "2  Вступление Албании в Европейский союз — процед...  False   729  \n",
       "3  Несмотря на продолжительные реанимационные поп...   True     7  \n",
       "4  Средство коммуникации. В своей простейшей форм...  False  1252  "
      ]
     },
     "execution_count": 17,
     "metadata": {},
     "output_type": "execute_result"
    }
   ],
   "source": [
    "dataset = pd.read_json(\"test_data/danet_qa.json\", lines=True)\n",
    "dataset"
   ]
  },
  {
   "cell_type": "markdown",
   "id": "bbe94f93",
   "metadata": {},
   "source": [
    "### Transform data\n",
    "\n",
    "Init transformation args:"
   ]
  },
  {
   "cell_type": "code",
   "execution_count": 18,
   "id": "14ab322c",
   "metadata": {},
   "outputs": [
    {
     "data": {
      "text/plain": [
       "TransformArguments(transformation='back_translation', max_outputs=1, probability=0.5, same_prob=True, del_prob=0.05, similarity_threshold=0.8, bae_model='bert-base-multilingual-cased', segment_length=3, bin_p=1.0, generator='gpt3', prompt_text=' Парафраза:', prompt=False, num_beams=None, early_stopping=False, no_repeat_ngram_size=None, do_sample=False, temperature=None, top_k=None, top_p=None, repetition_penalty=None, threshold=None, max_length=50)"
      ]
     },
     "execution_count": 18,
     "metadata": {},
     "output_type": "execute_result"
    }
   ],
   "source": [
    "transformation = \"back_translation\"\n",
    "probability = 0.5\n",
    "\n",
    "args = TransformArguments(transformation=transformation, probability=probability)\n",
    "args"
   ]
  },
  {
   "cell_type": "markdown",
   "id": "4d2f2a13",
   "metadata": {},
   "source": [
    "For this dataset, we choose to perturb the `passage` text and use the `NamedEntities` constraint to preserve proper nouns:"
   ]
  },
  {
   "cell_type": "code",
   "execution_count": 19,
   "id": "b73fbf05",
   "metadata": {},
   "outputs": [],
   "source": [
    "tr = DatasetTransformer(\n",
    "    dataset=dataset,\n",
    "    text_col=\"passage\",\n",
    "    args=args,\n",
    "    return_type=\"pd\",\n",
    "    custom_constraints=[NamedEntities()],\n",
    "    #     device='cuda:0'\n",
    ")"
   ]
  },
  {
   "cell_type": "code",
   "execution_count": 20,
   "id": "20b8b5b4",
   "metadata": {},
   "outputs": [
    {
     "data": {
      "application/vnd.jupyter.widget-view+json": {
       "model_id": "68e5c55da7d745aa809e0e2c7bb7aa59",
       "version_major": 2,
       "version_minor": 0
      },
      "text/plain": [
       "HBox(children=(FloatProgress(value=0.0, description='Transforming data', max=5.0, style=ProgressStyle(descript…"
      ]
     },
     "metadata": {},
     "output_type": "display_data"
    },
    {
     "name": "stdout",
     "output_type": "stream",
     "text": [
      "\n"
     ]
    }
   ],
   "source": [
    "output = tr.transform()"
   ]
  },
  {
   "cell_type": "code",
   "execution_count": 21,
   "id": "7b36b8d9",
   "metadata": {},
   "outputs": [
    {
     "data": {
      "text/html": [
       "<div>\n",
       "<style scoped>\n",
       "    .dataframe tbody tr th:only-of-type {\n",
       "        vertical-align: middle;\n",
       "    }\n",
       "\n",
       "    .dataframe tbody tr th {\n",
       "        vertical-align: top;\n",
       "    }\n",
       "\n",
       "    .dataframe thead th {\n",
       "        text-align: right;\n",
       "    }\n",
       "</style>\n",
       "<table border=\"1\" class=\"dataframe\">\n",
       "  <thead>\n",
       "    <tr style=\"text-align: right;\">\n",
       "      <th></th>\n",
       "      <th>question</th>\n",
       "      <th>passage</th>\n",
       "      <th>label</th>\n",
       "      <th>idx</th>\n",
       "    </tr>\n",
       "  </thead>\n",
       "  <tbody>\n",
       "    <tr>\n",
       "      <th>0</th>\n",
       "      <td>Был ли у обломова сын?</td>\n",
       "      <td>В браке с Пшеницыной у Обломова родился сын, н...</td>\n",
       "      <td>True</td>\n",
       "      <td>680</td>\n",
       "    </tr>\n",
       "    <tr>\n",
       "      <th>1</th>\n",
       "      <td>Должен ли цвет чехла соответствовать цвету цер...</td>\n",
       "      <td>С XV по XVI века троны изготавливаются либо в ...</td>\n",
       "      <td>False</td>\n",
       "      <td>1643</td>\n",
       "    </tr>\n",
       "    <tr>\n",
       "      <th>2</th>\n",
       "      <td>Состоит ли албания в евросоюзе?</td>\n",
       "      <td>Вступление Албании в Европейский союз — процед...</td>\n",
       "      <td>False</td>\n",
       "      <td>729</td>\n",
       "    </tr>\n",
       "    <tr>\n",
       "      <th>3</th>\n",
       "      <td>Был ли автомобиль принцессы дианы в дтп?</td>\n",
       "      <td>Несмотря на продолжительные реанимационные поп...</td>\n",
       "      <td>True</td>\n",
       "      <td>7</td>\n",
       "    </tr>\n",
       "    <tr>\n",
       "      <th>4</th>\n",
       "      <td>Обязательно ли содержание послания, которое не...</td>\n",
       "      <td>Средние средства связи. В своей простой форме ...</td>\n",
       "      <td>False</td>\n",
       "      <td>1252</td>\n",
       "    </tr>\n",
       "  </tbody>\n",
       "</table>\n",
       "</div>"
      ],
      "text/plain": [
       "                                            question  \\\n",
       "0                             Был ли у обломова сын?   \n",
       "1  Должен ли цвет чехла соответствовать цвету цер...   \n",
       "2                    Состоит ли албания в евросоюзе?   \n",
       "3           Был ли автомобиль принцессы дианы в дтп?   \n",
       "4  Обязательно ли содержание послания, которое не...   \n",
       "\n",
       "                                             passage  label   idx  \n",
       "0  В браке с Пшеницыной у Обломова родился сын, н...   True   680  \n",
       "1  С XV по XVI века троны изготавливаются либо в ...  False  1643  \n",
       "2  Вступление Албании в Европейский союз — процед...  False   729  \n",
       "3  Несмотря на продолжительные реанимационные поп...   True     7  \n",
       "4  Средние средства связи. В своей простой форме ...  False  1252  "
      ]
     },
     "execution_count": 21,
     "metadata": {},
     "output_type": "execute_result"
    }
   ],
   "source": [
    "output.transformed_dataset"
   ]
  },
  {
   "cell_type": "markdown",
   "id": "048242f3",
   "metadata": {},
   "source": [
    "## Example 3: Writing your own constraints\n",
    "\n",
    "If the provided constraints are not enough, you can create your own ones by simple class inheritance. \n",
    "\n",
    "For example, let's run transformation on the [RWSD](https://russiansuperglue.com/tasks/task_info/RWSD) dataset [(Shavrina et al,. 2020)](https://aclanthology.org/2020.emnlp-main.381/).\n",
    "\n",
    "### Load data"
   ]
  },
  {
   "cell_type": "code",
   "execution_count": 22,
   "id": "c1398b1a",
   "metadata": {},
   "outputs": [
    {
     "data": {
      "text/html": [
       "<div>\n",
       "<style scoped>\n",
       "    .dataframe tbody tr th:only-of-type {\n",
       "        vertical-align: middle;\n",
       "    }\n",
       "\n",
       "    .dataframe tbody tr th {\n",
       "        vertical-align: top;\n",
       "    }\n",
       "\n",
       "    .dataframe thead th {\n",
       "        text-align: right;\n",
       "    }\n",
       "</style>\n",
       "<table border=\"1\" class=\"dataframe\">\n",
       "  <thead>\n",
       "    <tr style=\"text-align: right;\">\n",
       "      <th></th>\n",
       "      <th>idx</th>\n",
       "      <th>target</th>\n",
       "      <th>label</th>\n",
       "      <th>text</th>\n",
       "    </tr>\n",
       "  </thead>\n",
       "  <tbody>\n",
       "    <tr>\n",
       "      <th>0</th>\n",
       "      <td>253</td>\n",
       "      <td>{'span1_text': 'статью', 'span2_text': 'читает...</td>\n",
       "      <td>False</td>\n",
       "      <td>Сара взяла в библиотеке книгу, чтобы написать ...</td>\n",
       "    </tr>\n",
       "    <tr>\n",
       "      <th>1</th>\n",
       "      <td>326</td>\n",
       "      <td>{'span1_text': 'Фред', 'span2_text': 'он верну...</td>\n",
       "      <td>False</td>\n",
       "      <td>Фред смотрел телевизор, пока Джордж выходил ку...</td>\n",
       "    </tr>\n",
       "    <tr>\n",
       "      <th>2</th>\n",
       "      <td>377</td>\n",
       "      <td>{'span1_text': 'печенья с шоколадной крошкой',...</td>\n",
       "      <td>False</td>\n",
       "      <td>Всем понравились овсяные печенья, и только нек...</td>\n",
       "    </tr>\n",
       "    <tr>\n",
       "      <th>3</th>\n",
       "      <td>8</td>\n",
       "      <td>{'span1_text': 'Женя', 'span2_text': 'она полу...</td>\n",
       "      <td>True</td>\n",
       "      <td>Женя поблагодарила Сашу за помощь, которую она...</td>\n",
       "    </tr>\n",
       "    <tr>\n",
       "      <th>4</th>\n",
       "      <td>475</td>\n",
       "      <td>{'span1_text': 'Донной', 'span2_text': 'ее сос...</td>\n",
       "      <td>True</td>\n",
       "      <td>Лили заговорила с Донной, нарушив ее сосредото...</td>\n",
       "    </tr>\n",
       "  </tbody>\n",
       "</table>\n",
       "</div>"
      ],
      "text/plain": [
       "   idx                                             target  label  \\\n",
       "0  253  {'span1_text': 'статью', 'span2_text': 'читает...  False   \n",
       "1  326  {'span1_text': 'Фред', 'span2_text': 'он верну...  False   \n",
       "2  377  {'span1_text': 'печенья с шоколадной крошкой',...  False   \n",
       "3    8  {'span1_text': 'Женя', 'span2_text': 'она полу...   True   \n",
       "4  475  {'span1_text': 'Донной', 'span2_text': 'ее сос...   True   \n",
       "\n",
       "                                                text  \n",
       "0  Сара взяла в библиотеке книгу, чтобы написать ...  \n",
       "1  Фред смотрел телевизор, пока Джордж выходил ку...  \n",
       "2  Всем понравились овсяные печенья, и только нек...  \n",
       "3  Женя поблагодарила Сашу за помощь, которую она...  \n",
       "4  Лили заговорила с Донной, нарушив ее сосредото...  "
      ]
     },
     "execution_count": 22,
     "metadata": {},
     "output_type": "execute_result"
    }
   ],
   "source": [
    "dataset = pd.read_json(\"test_data/rwsd.json\", lines=True)\n",
    "dataset"
   ]
  },
  {
   "cell_type": "markdown",
   "id": "9d430ec1",
   "metadata": {},
   "source": [
    "### Creating a constraint\n",
    "\n",
    "While the RWSD task is similar to the TAPE's Winograd, it does not have the same annotation, so we need to create a new constraint to preserve the antecedents and anaphoric pronouns: "
   ]
  },
  {
   "cell_type": "code",
   "execution_count": 23,
   "id": "3bcc0a6d",
   "metadata": {},
   "outputs": [],
   "source": [
    "from rutransform.constraints import Constraint\n",
    "from rutransform.constraints.utils import parse_reference\n",
    "from typing import List, Optional\n",
    "from spacy.language import Language\n",
    "\n",
    "\n",
    "class RWSDConstraint(Constraint):\n",
    "    def __init__(self, target_col_name: str, reference_key: str, noun_key: str) -> None:\n",
    "        super().__init__(name=\"rwsd_constraint\")\n",
    "        self.target_col_name = target_col_name\n",
    "        self.reference_key = reference_key\n",
    "        self.noun_key = noun_key\n",
    "\n",
    "    def patterns(\n",
    "        self, text: Optional[dict], spacy_model: Optional[Language]\n",
    "    ) -> List[List[dict]]:\n",
    "        morph = parse_reference(text[self.target_col_name][self.noun_key], spacy_model)\n",
    "        antecedent_feats = list(morph.values())\n",
    "        patterns = [\n",
    "            [\n",
    "                {\n",
    "                    \"TEXT\": {\n",
    "                        \"IN\": text[self.target_col_name][self.reference_key].split()\n",
    "                        + text[self.target_col_name][self.noun_key].split()\n",
    "                    }\n",
    "                }\n",
    "            ],\n",
    "            [\n",
    "                {\n",
    "                    \"POS\": {\"IN\": [\"NOUN\", \"PROPN\"]},\n",
    "                    \"MORPH\": {\"IS_SUPERSET\": antecedent_feats},\n",
    "                }\n",
    "            ],\n",
    "        ]\n",
    "        return patterns"
   ]
  },
  {
   "cell_type": "markdown",
   "id": "7e1fc4a4",
   "metadata": {},
   "source": [
    "To use custom constraints during the transformation, pass them into the `custom_constraints` argument:"
   ]
  },
  {
   "cell_type": "code",
   "execution_count": 24,
   "id": "0ec7a068",
   "metadata": {},
   "outputs": [],
   "source": [
    "# load arguments\n",
    "transformation = \"eda\"\n",
    "probability = 0.3\n",
    "args = TransformArguments(transformation=transformation, probability=probability)"
   ]
  },
  {
   "cell_type": "code",
   "execution_count": 25,
   "id": "656f6561",
   "metadata": {},
   "outputs": [],
   "source": [
    "# init dataset transformer\n",
    "tr = DatasetTransformer(\n",
    "    dataset=dataset,\n",
    "    text_col=\"text\",\n",
    "    args=args,\n",
    "    custom_constraints=[\n",
    "        RWSDConstraint(\n",
    "            target_col_name=\"target\", reference_key=\"span2_text\", noun_key=\"span1_text\"\n",
    "        )\n",
    "    ],\n",
    "    return_type=\"pd\",\n",
    ")"
   ]
  },
  {
   "cell_type": "code",
   "execution_count": 26,
   "id": "df18037b",
   "metadata": {},
   "outputs": [
    {
     "data": {
      "application/vnd.jupyter.widget-view+json": {
       "model_id": "7c42b8b62f8e492d83a3658855b0bd03",
       "version_major": 2,
       "version_minor": 0
      },
      "text/plain": [
       "HBox(children=(FloatProgress(value=0.0, description='Transforming data', max=5.0, style=ProgressStyle(descript…"
      ]
     },
     "metadata": {},
     "output_type": "display_data"
    },
    {
     "name": "stdout",
     "output_type": "stream",
     "text": [
      "\n"
     ]
    }
   ],
   "source": [
    "output = tr.transform()"
   ]
  },
  {
   "cell_type": "code",
   "execution_count": 27,
   "id": "475a65fe",
   "metadata": {},
   "outputs": [
    {
     "data": {
      "text/html": [
       "<div>\n",
       "<style scoped>\n",
       "    .dataframe tbody tr th:only-of-type {\n",
       "        vertical-align: middle;\n",
       "    }\n",
       "\n",
       "    .dataframe tbody tr th {\n",
       "        vertical-align: top;\n",
       "    }\n",
       "\n",
       "    .dataframe thead th {\n",
       "        text-align: right;\n",
       "    }\n",
       "</style>\n",
       "<table border=\"1\" class=\"dataframe\">\n",
       "  <thead>\n",
       "    <tr style=\"text-align: right;\">\n",
       "      <th></th>\n",
       "      <th>idx</th>\n",
       "      <th>target</th>\n",
       "      <th>label</th>\n",
       "      <th>text</th>\n",
       "    </tr>\n",
       "  </thead>\n",
       "  <tbody>\n",
       "    <tr>\n",
       "      <th>0</th>\n",
       "      <td>253</td>\n",
       "      <td>{'span1_index': 7, 'span1_text': 'статью', 'sp...</td>\n",
       "      <td>False</td>\n",
       "      <td>Сара книгу , чтобы написать статью Она читает ...</td>\n",
       "    </tr>\n",
       "    <tr>\n",
       "      <th>1</th>\n",
       "      <td>326</td>\n",
       "      <td>{'span1_index': 0, 'span1_text': 'Фред', 'span...</td>\n",
       "      <td>False</td>\n",
       "      <td>Фред телевизор смотрел , пока Джордж выходил к...</td>\n",
       "    </tr>\n",
       "    <tr>\n",
       "      <th>2</th>\n",
       "      <td>377</td>\n",
       "      <td>{'span1_index': 3, 'span1_text': 'печенья с шо...</td>\n",
       "      <td>False</td>\n",
       "      <td>Всем печенья и только некоторым печенья с шоко...</td>\n",
       "    </tr>\n",
       "    <tr>\n",
       "      <th>3</th>\n",
       "      <td>8</td>\n",
       "      <td>{'span1_index': 0, 'span1_text': 'Женя', 'span...</td>\n",
       "      <td>True</td>\n",
       "      <td>поблагодарила Женя Сашу за помощь , которую он...</td>\n",
       "    </tr>\n",
       "    <tr>\n",
       "      <th>4</th>\n",
       "      <td>475</td>\n",
       "      <td>{'span1_index': 3, 'span1_text': 'Донной', 'sp...</td>\n",
       "      <td>True</td>\n",
       "      <td>Лили , нарушив ее .</td>\n",
       "    </tr>\n",
       "  </tbody>\n",
       "</table>\n",
       "</div>"
      ],
      "text/plain": [
       "   idx                                             target  label  \\\n",
       "0  253  {'span1_index': 7, 'span1_text': 'статью', 'sp...  False   \n",
       "1  326  {'span1_index': 0, 'span1_text': 'Фред', 'span...  False   \n",
       "2  377  {'span1_index': 3, 'span1_text': 'печенья с шо...  False   \n",
       "3    8  {'span1_index': 0, 'span1_text': 'Женя', 'span...   True   \n",
       "4  475  {'span1_index': 3, 'span1_text': 'Донной', 'sp...   True   \n",
       "\n",
       "                                                text  \n",
       "0  Сара книгу , чтобы написать статью Она читает ...  \n",
       "1  Фред телевизор смотрел , пока Джордж выходил к...  \n",
       "2  Всем печенья и только некоторым печенья с шоко...  \n",
       "3  поблагодарила Женя Сашу за помощь , которую он...  \n",
       "4                                Лили , нарушив ее .  "
      ]
     },
     "execution_count": 27,
     "metadata": {},
     "output_type": "execute_result"
    }
   ],
   "source": [
    "output.transformed_dataset"
   ]
  },
  {
   "cell_type": "code",
   "execution_count": 28,
   "id": "c5b4ef71",
   "metadata": {},
   "outputs": [
    {
     "data": {
      "text/plain": [
       "0.8719747543334961"
      ]
     },
     "execution_count": 28,
     "metadata": {},
     "output_type": "execute_result"
    }
   ],
   "source": [
    "output.score"
   ]
  },
  {
   "cell_type": "markdown",
   "id": "c76059c4",
   "metadata": {},
   "source": [
    "## Example 4:  Transforming Sentences\n",
    "\n",
    "All of the transformations, supported by the framework, can be applied not only to the while datasets, but sentences alone.\n",
    "\n",
    "Here is an example:"
   ]
  },
  {
   "cell_type": "code",
   "execution_count": 29,
   "id": "24041820",
   "metadata": {},
   "outputs": [],
   "source": [
    "from rutransform.transformations import (\n",
    "    SentenceAdditions,\n",
    "    ButterFingersTransformation,\n",
    "    EmojifyTransformation,\n",
    "    ChangeCharCase,\n",
    "    BackTranslationNER,\n",
    "    Paraphraser,\n",
    "    RandomEDA,\n",
    "    BAE,\n",
    ")"
   ]
  },
  {
   "cell_type": "markdown",
   "id": "cb975e7f",
   "metadata": {},
   "source": [
    "As always, initialize the transformations arguments, but you can leave out the transformation:"
   ]
  },
  {
   "cell_type": "code",
   "execution_count": 30,
   "id": "6812bfad",
   "metadata": {},
   "outputs": [
    {
     "name": "stderr",
     "output_type": "stream",
     "text": [
      "No transformation was passed.\n"
     ]
    }
   ],
   "source": [
    "args = TransformArguments(probability=0.5)"
   ]
  },
  {
   "cell_type": "markdown",
   "id": "0b71eb37",
   "metadata": {},
   "source": [
    "Transform the sentence"
   ]
  },
  {
   "cell_type": "code",
   "execution_count": 31,
   "id": "0e9bb76c",
   "metadata": {},
   "outputs": [
    {
     "name": "stderr",
     "output_type": "stream",
     "text": [
      "/home/jovyan/.imgenv-tape2-0/lib/python3.7/site-packages/transformers/models/auto/modeling_auto.py:698: FutureWarning: The class `AutoModelWithLMHead` is deprecated and will be removed in a future version. Please use `AutoModelForCausalLM` for causal language models, `AutoModelForMaskedLM` for masked language models and `AutoModelForSeq2SeqLM` for encoder-decoder models.\n",
      "  FutureWarning,\n"
     ]
    },
    {
     "data": {
      "text/plain": [
       "['мама мыла раму, Мама мыла раму,']"
      ]
     },
     "execution_count": 31,
     "metadata": {},
     "output_type": "execute_result"
    }
   ],
   "source": [
    "tr = SentenceAdditions(args=args)\n",
    "tr.generate(\"мама мыла раму\")"
   ]
  },
  {
   "cell_type": "code",
   "execution_count": 32,
   "id": "ca207322",
   "metadata": {},
   "outputs": [
    {
     "data": {
      "text/plain": [
       "['ммаа мырв ламу']"
      ]
     },
     "execution_count": 32,
     "metadata": {},
     "output_type": "execute_result"
    }
   ],
   "source": [
    "tr = ButterFingersTransformation(\n",
    "    args=args,\n",
    ")\n",
    "tr.generate(\"мама мыла раму\")"
   ]
  },
  {
   "cell_type": "code",
   "execution_count": 41,
   "id": "3cfc1987",
   "metadata": {},
   "outputs": [
    {
     "data": {
      "text/plain": [
       "['мама мыла \\U0001fa9f']"
      ]
     },
     "execution_count": 41,
     "metadata": {},
     "output_type": "execute_result"
    }
   ],
   "source": [
    "tr = EmojifyTransformation(args=args)\n",
    "tr.generate(\"мама мыла окно\")"
   ]
  },
  {
   "cell_type": "code",
   "execution_count": 34,
   "id": "42952dad",
   "metadata": {},
   "outputs": [
    {
     "data": {
      "text/plain": [
       "['мама']"
      ]
     },
     "execution_count": 34,
     "metadata": {},
     "output_type": "execute_result"
    }
   ],
   "source": [
    "tr = RandomEDA(args=args)\n",
    "tr.generate(\"мама мыла раму\")"
   ]
  },
  {
   "cell_type": "code",
   "execution_count": 35,
   "id": "afb43def",
   "metadata": {},
   "outputs": [
    {
     "data": {
      "text/plain": [
       "['мАМА мылА РАМу']"
      ]
     },
     "execution_count": 35,
     "metadata": {},
     "output_type": "execute_result"
    }
   ],
   "source": [
    "tr = ChangeCharCase(args=args)\n",
    "tr.generate(\"мама мыла раму\")"
   ]
  },
  {
   "cell_type": "code",
   "execution_count": 36,
   "id": "90077093",
   "metadata": {},
   "outputs": [
    {
     "data": {
      "text/plain": [
       "['Мама мыла раму.']"
      ]
     },
     "execution_count": 36,
     "metadata": {},
     "output_type": "execute_result"
    }
   ],
   "source": [
    "tr = BackTranslationNER(args=args)\n",
    "tr.generate(\"мама мыла раму\")"
   ]
  },
  {
   "cell_type": "code",
   "execution_count": 37,
   "id": "bc5c3e22",
   "metadata": {},
   "outputs": [
    {
     "data": {
      "text/plain": [
       "['мама мыла раму в рассказе \"мама мыла раму\"']"
      ]
     },
     "execution_count": 37,
     "metadata": {},
     "output_type": "execute_result"
    }
   ],
   "source": [
    "tr = Paraphraser(args=args)\n",
    "tr.generate(\"мама мыла раму\")"
   ]
  },
  {
   "cell_type": "code",
   "execution_count": 38,
   "id": "cb97a761",
   "metadata": {},
   "outputs": [
    {
     "data": {
      "text/plain": [
       "['мама р раму']"
      ]
     },
     "execution_count": 38,
     "metadata": {},
     "output_type": "execute_result"
    }
   ],
   "source": [
    "tr = BAE(args=args)\n",
    "tr.generate(\"мама мыла раму\")"
   ]
  },
  {
   "cell_type": "markdown",
   "id": "1b538ffe",
   "metadata": {},
   "source": [
    "## Example 5: Custom Transformation\n",
    "\n",
    "RuTransform allows one to create their own custom transformations. Here is the example of a simple transformation that randomises word order.\n",
    "\n",
    "\n",
    "First, you need to define the `SentenceOperation` class for the transformation, which has `__init__` and `generate` functions. \n",
    "\n",
    "Note, that the function arguments must stay unchanged for further compatability with the framework. We also define a separate function for th transformation itself, to keep the code more readable."
   ]
  },
  {
   "cell_type": "code",
   "execution_count": 1,
   "id": "a39165d7",
   "metadata": {},
   "outputs": [
    {
     "name": "stderr",
     "output_type": "stream",
     "text": [
      "2022-11-22 19:35:26.869055: W tensorflow/stream_executor/platform/default/dso_loader.cc:64] Could not load dynamic library 'libcudart.so.11.0'; dlerror: libcudart.so.11.0: cannot open shared object file: No such file or directory; LD_LIBRARY_PATH: /usr/local/nvidia/lib:/usr/local/nvidia/lib64\n",
      "2022-11-22 19:35:26.869085: I tensorflow/stream_executor/cuda/cudart_stub.cc:29] Ignore above cudart dlerror if you do not have a GPU set up on your machine.\n"
     ]
    }
   ],
   "source": [
    "import random\n",
    "import spacy\n",
    "\n",
    "\n",
    "def random_word_order(sentence, spacy_model, seed, max_outputs):\n",
    "\n",
    "    \"\"\"\n",
    "    Randomise word order\n",
    "    \"\"\"\n",
    "\n",
    "    random.seed(seed)\n",
    "\n",
    "    if not spacy_model:\n",
    "        spacy_model = spacy.load(\"ru_core_news_sm\")\n",
    "\n",
    "    tokens = [token.text for token in spacy_model(sentence)]\n",
    "\n",
    "    return [\" \".join(random.sample(tokens, k=len(tokens))) for _ in range(max_outputs)]"
   ]
  },
  {
   "cell_type": "code",
   "execution_count": 2,
   "id": "391f1726",
   "metadata": {},
   "outputs": [],
   "source": [
    "from rutransform.transformations.utils import SentenceOperation\n",
    "from typing import Optional, List, Union, Dict\n",
    "\n",
    "\n",
    "class RandomWordOrder(SentenceOperation):\n",
    "    def __init__(\n",
    "        self,\n",
    "        args,\n",
    "        seed=42,\n",
    "        max_outputs=1,\n",
    "        device=\"cpu\",\n",
    "        spacy_model=None,\n",
    "    ):\n",
    "        super().__init__(\n",
    "            args=args,\n",
    "            seed=seed,\n",
    "            max_outputs=max_outputs,\n",
    "            device=device,\n",
    "            spacy_model=spacy_model,\n",
    "        )\n",
    "\n",
    "    def generate(\n",
    "        self,\n",
    "        sentence: str,\n",
    "        stop_words: Optional[List[Union[int, str]]] = None,\n",
    "        prob: Optional[float] = None,\n",
    "    ) -> List[str]:\n",
    "\n",
    "        transformed = random_word_order(\n",
    "            sentence=sentence,\n",
    "            seed=self.seed,\n",
    "            spacy_model=self.spacy_model,\n",
    "            max_outputs=self.max_outputs,\n",
    "        )\n",
    "\n",
    "        return transformed"
   ]
  },
  {
   "cell_type": "markdown",
   "id": "bbfb543b",
   "metadata": {},
   "source": [
    "Now the transformation is ready to use on the sentence level:"
   ]
  },
  {
   "cell_type": "code",
   "execution_count": 3,
   "id": "87cf4931",
   "metadata": {},
   "outputs": [
    {
     "name": "stderr",
     "output_type": "stream",
     "text": [
      "No transformation was passed.\n"
     ]
    },
    {
     "data": {
      "text/plain": [
       "['раму мама мыла',\n",
       " 'раму мыла мама',\n",
       " 'мама раму мыла',\n",
       " 'раму мама мыла',\n",
       " 'мама раму мыла']"
      ]
     },
     "execution_count": 3,
     "metadata": {},
     "output_type": "execute_result"
    }
   ],
   "source": [
    "from rutransform.utils.args import TransformArguments\n",
    "\n",
    "args = TransformArguments()\n",
    "tr = RandomWordOrder(args=args, max_outputs=5)\n",
    "tr.generate(\"мама мыла раму\")"
   ]
  },
  {
   "cell_type": "markdown",
   "id": "0cab128a",
   "metadata": {},
   "source": [
    "After creating the transformation, you can add it to an existing Transformer, by simply inheriting the class and changing the `transform_info` fuction: "
   ]
  },
  {
   "cell_type": "code",
   "execution_count": 4,
   "id": "26827c21",
   "metadata": {},
   "outputs": [],
   "source": [
    "from rutransform.transformations import EDATransformer\n",
    "\n",
    "\n",
    "class EDATransformer(EDATransformer):\n",
    "    def __init__(\n",
    "        self,\n",
    "        transformations: List[str],\n",
    "        task_type: str,\n",
    "        args: TransformArguments,\n",
    "        text_col: Optional[str] = \"text\",\n",
    "        label_col: Optional[str] = \"label\",\n",
    "        seed: int = 42,\n",
    "        device: str = \"cpu\",\n",
    "        constraints=None,\n",
    "    ) -> None:\n",
    "\n",
    "        super().__init__(\n",
    "            transformations=transformations,\n",
    "            task_type=task_type,\n",
    "            args=args,\n",
    "            text_col=text_col,\n",
    "            label_col=label_col,\n",
    "            seed=seed,\n",
    "            device=device,\n",
    "            constraints=constraints,\n",
    "        )\n",
    "\n",
    "    def transform_info() -> Dict[str, Optional[SentenceOperation]]:\n",
    "\n",
    "        info = {\"eda\": RandomEDA, \"word_order\": RandomWordOrder}\n",
    "\n",
    "        return info"
   ]
  },
  {
   "cell_type": "markdown",
   "id": "77a7fada",
   "metadata": {},
   "source": [
    "...or create a Transformer from scratch by inheriting the `Transformer` class and defining several functions:\n",
    "\n",
    "- `transform_info`: a staticmethod, must return a dictionary {transformation name: corresponding SentenceOperation class}. It is used to load the list of all the available transformations\n",
    "- `_apply_transformation`: a function that applies the transformations to text until the transformed text passes the similarity threshold and returns a list of transformed texts and their similarity scores\n",
    "- `transform` (optional): a function that takes a sentence as input and transforms it\n",
    "\n",
    "For more information on the `Transformer` class and its structure see [here](../rutransform/transformations/transformer.py).\n",
    "\n",
    "\n",
    "Once you have created the Transformer, add it to the [rutransform/transformations/transformers](../rutransform/transformations/transformers) folder and edit the [`__init__.py`](../rutransform/transformations/__init__.py) file.\n",
    "\n",
    "Now you transformation is ready for use!"
   ]
  }
 ],
 "metadata": {
  "kernelspec": {
   "display_name": "Python 3 (ipykernel)",
   "language": "python",
   "name": "python3"
  },
  "language_info": {
   "codemirror_mode": {
    "name": "ipython",
    "version": 3
   },
   "file_extension": ".py",
   "mimetype": "text/x-python",
   "name": "python",
   "nbconvert_exporter": "python",
   "pygments_lexer": "ipython3",
   "version": "3.7.12"
  }
 },
 "nbformat": 4,
 "nbformat_minor": 5
}
